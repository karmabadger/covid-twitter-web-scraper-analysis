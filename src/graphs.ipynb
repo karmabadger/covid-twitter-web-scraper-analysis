{
 "cells": [
  {
   "cell_type": "code",
   "execution_count": 1,
   "id": "fa9c3b67",
   "metadata": {
    "scrolled": true
   },
   "outputs": [],
   "source": [
    "import csv\n",
    "import pandas as pd\n",
    "from compute_tfidf import *"
   ]
  },
  {
   "cell_type": "code",
   "execution_count": 2,
   "id": "5ab66132",
   "metadata": {},
   "outputs": [],
   "source": [
    "# csv table of top 10 words for each topic\n",
    "\n",
    "topics_count = get_topics_count('../data/annotated.csv', '../data/stopwords.txt')\n",
    "count_dict = get_topics_score(topics_count, 10)\n",
    "\n",
    "topics_list = []\n",
    "for topic in count_dict.keys():\n",
    "    topics_list.append(topic)\n",
    "\n",
    "words_list = []\n",
    "for group in range(10):\n",
    "    words = []\n",
    "    for bar in count_dict.values():\n",
    "        words.append(bar[group])\n",
    "    words_list.append(words)\n",
    "\n",
    "header = topics_list\n",
    "file = open('../data/tfidf_table.csv', 'w')\n",
    "writer = csv.writer(file)\n",
    "writer.writerow(header)\n",
    "writer.writerows(words_list)\n",
    "file.close()"
   ]
  },
  {
   "cell_type": "code",
   "execution_count": 3,
   "id": "a7f9bc32",
   "metadata": {},
   "outputs": [
    {
     "name": "stdout",
     "output_type": "stream",
     "text": [
      "['HUR', 'OTH', 'PEH', 'POD', 'PUH', 'VAE']\n",
      "[46, 13, 9, 22, 158, 11, 14, 27, 20, 78, 42, 24, 59, 166, 106, 93, 46, 66]\n",
      "[46, 22, 14, 78, 59, 93]\n",
      "[13, 158, 27, 42, 166, 46]\n",
      "[9, 11, 20, 24, 106, 66]\n"
     ]
    },
    {
     "data": {
      "image/png": "[encoded data removed]",
      "text/plain": [
       "<Figure size 432x288 with 1 Axes>"
      ]
     },
     "metadata": {
      "needs_background": "light"
     },
     "output_type": "display_data"
    }
   ],
   "source": [
    "# graph of sentiment for each topic\n",
    "\n",
    "df = pd.read_csv('../data/annotated.csv', encoding='unicode_escape')\n",
    "df = df[['topics', 'sentiment']]\n",
    "\n",
    "topics = sorted(df.topics.unique())\n",
    "print(topics)\n",
    "\n",
    "sentiment_list = df.groupby(['topics', 'sentiment'])['sentiment'].count().unstack(fill_value=0).stack().to_list()\n",
    "print(sentiment_list)\n",
    "\n",
    "negative_list = []\n",
    "neutral_list = []\n",
    "positive_list = []\n",
    "\n",
    "for i in range(0,len(sentiment_list), 3):\n",
    "    negative_list.append(sentiment_list[i])\n",
    "    neutral_list.append(sentiment_list[i+1])\n",
    "    positive_list.append(sentiment_list[i+2])\n",
    "    \n",
    "print(negative_list)\n",
    "print(neutral_list)\n",
    "print(positive_list)\n",
    "\n",
    "df = pd.DataFrame({'positive': positive_list, 'neutral': neutral_list, 'negative': negative_list}, index=topics)\n",
    "ax = df.plot.bar(rot=0, color=['green', 'blue', 'red'])\n",
    "\n",
    "for p in ax.patches:\n",
    "    height = p.get_height()\n",
    "    x, y = p.get_xy() \n",
    "    ax.annotate('{}'.format(height), (x, y + height))\n",
    "\n",
    "ax.set_xlabel('Topics')\n",
    "ax.set_ylabel('Number of Tweets')\n",
    "fig = ax.get_figure()\n",
    "fig.savefig('../data/figure1.png')"
   ]
  },
  {
   "cell_type": "code",
   "execution_count": 4,
   "id": "8ed2e651",
   "metadata": {},
   "outputs": [
    {
     "name": "stdout",
     "output_type": "stream",
     "text": [
      "['HUR', 'OTH', 'PEH', 'POD', 'PUH', 'VAE']\n",
      "1000\n",
      "[68, 191, 61, 144, 331, 205]\n",
      "[6.8, 19.1, 6.1, 14.4, 33.1, 20.5]\n"
     ]
    },
    {
     "data": {
      "image/png": "[encoded data removed]",
      "text/plain": [
       "<Figure size 432x288 with 1 Axes>"
      ]
     },
     "metadata": {
      "needs_background": "light"
     },
     "output_type": "display_data"
    }
   ],
   "source": [
    "# graph for topics engagement\n",
    "\n",
    "df = pd.read_csv('../data/annotated.csv', encoding='unicode_escape')\n",
    "\n",
    "topics = sorted(df.topics.unique())\n",
    "print(topics)\n",
    "\n",
    "total_tweets = df.shape[0]\n",
    "print(total_tweets)\n",
    "\n",
    "count_list = df.groupby('topics')['topics'].count().to_list()\n",
    "print(count_list)\n",
    "\n",
    "for i in range(len(count_list)):\n",
    "    count_list[i] = round(count_list[i]/total_tweets * 100, 2)\n",
    "    \n",
    "print(count_list)\n",
    "\n",
    "df = pd.DataFrame(count_list, index=topics)\n",
    "ax = df.plot.bar(rot=0, legend=False)\n",
    "\n",
    "for p in ax.patches:\n",
    "    height = p.get_height()\n",
    "    x, y = p.get_xy() \n",
    "    ax.annotate('{}'.format(height), (x, y + height))\n",
    "    \n",
    "ax.set_xlabel('Topics')\n",
    "ax.set_ylabel('Percentage of Tweets')\n",
    "fig = ax.get_figure()\n",
    "fig.savefig('../data/figure2.png')"
   ]
  }
 ],
 "metadata": {
  "kernelspec": {
   "display_name": "Python 3 (ipykernel)",
   "language": "python",
   "name": "python3"
  },
  "language_info": {
   "codemirror_mode": {
    "name": "ipython",
    "version": 3
   },
   "file_extension": ".py",
   "mimetype": "text/x-python",
   "name": "python",
   "nbconvert_exporter": "python",
   "pygments_lexer": "ipython3",
   "version": "3.9.7"
  }
 },
 "nbformat": 4,
 "nbformat_minor": 5
}
